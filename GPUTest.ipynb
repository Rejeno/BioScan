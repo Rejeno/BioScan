{
 "cells": [
  {
   "cell_type": "code",
   "execution_count": 1,
   "id": "73bdd2e8",
   "metadata": {},
   "outputs": [
    {
     "name": "stdout",
     "output_type": "stream",
     "text": [
      "Using device: cuda\n",
      "Tensor is on: cuda:0\n",
      "\n",
      "=== NVIDIA-SMI ===\n"
     ]
    },
    {
     "data": {
      "text/plain": [
       "0"
      ]
     },
     "execution_count": 1,
     "metadata": {},
     "output_type": "execute_result"
    }
   ],
   "source": [
    "import torch\n",
    "import os\n",
    "\n",
    "# Check if CUDA is available\n",
    "device = torch.device(\"cuda\" if torch.cuda.is_available() else \"cpu\")\n",
    "print(\"Using device:\", device)\n",
    "\n",
    "# Create some dummy tensors and move them to GPU if available\n",
    "x = torch.randn(10000, 1000, device=device)\n",
    "y = x @ x.T\n",
    "print(\"Tensor is on:\", x.device)\n",
    "\n",
    "# Show live GPU usage from NVIDIA-SMI\n",
    "print(\"\\n=== NVIDIA-SMI ===\")\n",
    "os.system(\"nvidia-smi\")\n"
   ]
  },
  {
   "cell_type": "code",
   "execution_count": 2,
   "id": "69d85642",
   "metadata": {},
   "outputs": [
    {
     "name": "stdout",
     "output_type": "stream",
     "text": [
      "CUDA available: True\n",
      "CUDA device count: 1\n",
      "CUDA device name: NVIDIA GeForce RTX 5060 Ti\n",
      "CUDA version (PyTorch built-in): 12.9\n",
      "Torch compiled with CUDA: True\n"
     ]
    }
   ],
   "source": [
    "import torch\n",
    "print(\"CUDA available:\", torch.cuda.is_available())\n",
    "print(\"CUDA device count:\", torch.cuda.device_count())\n",
    "print(\"CUDA device name:\", torch.cuda.get_device_name(0) if torch.cuda.is_available() else \"None\")\n",
    "print(\"CUDA version (PyTorch built-in):\", torch.version.cuda)\n",
    "print(\"Torch compiled with CUDA:\", torch.backends.cudnn.is_available())"
   ]
  },
  {
   "cell_type": "code",
   "execution_count": 3,
   "id": "c06679ad",
   "metadata": {},
   "outputs": [
    {
     "name": "stdout",
     "output_type": "stream",
     "text": [
      "Using: cuda NVIDIA GeForce RTX 5060 Ti\n",
      "Training...\n",
      "Epoch 1, Loss: 2.3103\n",
      "Epoch 2, Loss: 2.2647\n",
      "Epoch 3, Loss: 2.2232\n",
      "Epoch 4, Loss: 2.1752\n",
      "Epoch 5, Loss: 2.1224\n",
      "Done training!\n"
     ]
    }
   ],
   "source": [
    "import torch\n",
    "import torch.nn as nn\n",
    "import torch.optim as optim\n",
    "\n",
    "# Select device\n",
    "device = torch.device(\"cuda\" if torch.cuda.is_available() else \"cpu\")\n",
    "print(\"Using:\", device, torch.cuda.get_device_name(0))\n",
    "\n",
    "# Dummy dataset (random data)\n",
    "X = torch.randn(5000, 1000, device=device)  # 5000 samples, 1000 features\n",
    "y = torch.randint(0, 10, (5000,), device=device)  # 10 classes\n",
    "\n",
    "# Simple neural net\n",
    "model = nn.Sequential(\n",
    "    nn.Linear(1000, 512),\n",
    "    nn.ReLU(),\n",
    "    nn.Linear(512, 256),\n",
    "    nn.ReLU(),\n",
    "    nn.Linear(256, 10)\n",
    ").to(device)\n",
    "\n",
    "# Loss and optimizer\n",
    "criterion = nn.CrossEntropyLoss()\n",
    "optimizer = optim.Adam(model.parameters(), lr=0.001)\n",
    "\n",
    "# Training loop\n",
    "print(\"Training...\")\n",
    "for epoch in range(5):  # 5 epochs\n",
    "    optimizer.zero_grad()\n",
    "    outputs = model(X)\n",
    "    loss = criterion(outputs, y)\n",
    "    loss.backward()\n",
    "    optimizer.step()\n",
    "    print(f\"Epoch {epoch+1}, Loss: {loss.item():.4f}\")\n",
    "\n",
    "print(\"Done training!\")"
   ]
  }
 ],
 "metadata": {
  "kernelspec": {
   "display_name": "Python 3",
   "language": "python",
   "name": "python3"
  },
  "language_info": {
   "codemirror_mode": {
    "name": "ipython",
    "version": 3
   },
   "file_extension": ".py",
   "mimetype": "text/x-python",
   "name": "python",
   "nbconvert_exporter": "python",
   "pygments_lexer": "ipython3",
   "version": "3.10.11"
  }
 },
 "nbformat": 4,
 "nbformat_minor": 5
}
